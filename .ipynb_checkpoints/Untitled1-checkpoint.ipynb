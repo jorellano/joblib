{
 "cells": [
  {
   "cell_type": "markdown",
   "metadata": {},
   "source": [
    "# Num Py memmap in joblib.Parallel\n",
    "\n",
    " memory map feature `numpy.memmap` is a feature w/in `joblib.parallel` "
   ]
  },
  {
   "cell_type": "code",
   "execution_count": 4,
   "metadata": {},
   "outputs": [],
   "source": [
    "import numpy as np\n",
    "\n",
    "data = np.random.random((int(1e7),))\n",
    "window_size = int(5e5)\n",
    "slices = [slice(start, start + window_size)\n",
    "          for start in range(0, data.size - window_size, int(1e5))]"
   ]
  },
  {
   "cell_type": "markdown",
   "metadata": {},
   "source": [
    "The `slow_mean` fn introduces time.sleep() call to simulate a more expensive computing is beneficial. Parallel may not be beneficial or fast, due to the overhead (creating workers, communication, etc)"
   ]
  },
  {
   "cell_type": "code",
   "execution_count": 6,
   "metadata": {},
   "outputs": [],
   "source": [
    "import time\n",
    "\n",
    "def slow_mean(data, sl):\n",
    "    \"\"\"Simulate a time consuming process\"\"\"\n",
    "    time.sleep(0.01)\n",
    "    return data[sl].mean()"
   ]
  },
  {
   "cell_type": "markdown",
   "metadata": {},
   "source": [
    "First: Evaulate the sequential computing on this problem"
   ]
  },
  {
   "cell_type": "code",
   "execution_count": 12,
   "metadata": {},
   "outputs": [
    {
     "name": "stdout",
     "output_type": "stream",
     "text": [
      "\n",
      "Elapsed time computing the average of couple of slices 1.11 s\n"
     ]
    }
   ],
   "source": [
    "from joblib import Parallel, delayed\n",
    "tic = time.time()\n",
    "results = Parallel(n_jobs=2)(delaxyed(slow_mean)(data, sl) for sl in slices) \n",
    "toc = time.time()\n",
    "print('\\nElapsed time computing the average of couple of slices {:.2f} s'\n",
    "      .format(toc - tic))"
   ]
  },
  {
   "cell_type": "markdown",
   "metadata": {},
   "source": [
    "**joblib.Parallel** is used to compute in parallel the average of all slices using 2 workers."
   ]
  },
  {
   "cell_type": "code",
   "execution_count": 15,
   "metadata": {},
   "outputs": [
    {
     "name": "stdout",
     "output_type": "stream",
     "text": [
      "\n",
      "Elapsed time computing the average of couple of slices -476.60 s\n"
     ]
    }
   ],
   "source": [
    "from joblib import Parallel, delayed\n",
    "\n",
    "tic = time.time()\n",
    "results = Parallel(n_jobs=1)(delayed(slow_mean)(data, sl) for sl in slices)\n",
    "print('\\nElapsed time computing the average of couple of slices {:.2f} s'\n",
    "      .format(toc - tic))"
   ]
  },
  {
   "cell_type": "markdown",
   "metadata": {},
   "source": [
    "In this instance, the "
   ]
  },
  {
   "cell_type": "code",
   "execution_count": null,
   "metadata": {},
   "outputs": [],
   "source": []
  },
  {
   "cell_type": "code",
   "execution_count": null,
   "metadata": {},
   "outputs": [],
   "source": []
  },
  {
   "cell_type": "code",
   "execution_count": 16,
   "metadata": {},
   "outputs": [
    {
     "name": "stdout",
     "output_type": "stream",
     "text": [
      "Could not clean-up automatically.\n"
     ]
    }
   ],
   "source": [
    "import shutil\n",
    "\n",
    "try:\n",
    "    shutil.rmtree(folder)\n",
    "except:  # noqa\n",
    "    print('Could not clean-up automatically.')"
   ]
  },
  {
   "cell_type": "code",
   "execution_count": null,
   "metadata": {},
   "outputs": [],
   "source": []
  },
  {
   "cell_type": "code",
   "execution_count": null,
   "metadata": {},
   "outputs": [],
   "source": []
  },
  {
   "cell_type": "code",
   "execution_count": null,
   "metadata": {},
   "outputs": [],
   "source": []
  }
 ],
 "metadata": {
  "kernelspec": {
   "display_name": "Python 3",
   "language": "python",
   "name": "python3"
  },
  "language_info": {
   "codemirror_mode": {
    "name": "ipython",
    "version": 3
   },
   "file_extension": ".py",
   "mimetype": "text/x-python",
   "name": "python",
   "nbconvert_exporter": "python",
   "pygments_lexer": "ipython3",
   "version": "3.6.8"
  }
 },
 "nbformat": 4,
 "nbformat_minor": 2
}
