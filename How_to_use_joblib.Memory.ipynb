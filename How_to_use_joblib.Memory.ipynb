{
 "cells": [
  {
   "cell_type": "markdown",
   "metadata": {},
   "source": [
    "# How to use joblib.Memory\n",
    "\n",
    "\n",
    "\n",
    "### In this notebook we will learn how to use the joblib.Memory\n",
    "\n",
    "\n",
    "will be using the function and methods\n",
    "\n",
    "## w/o joblib.Memory\n",
    "\n",
    "`costly_compute` emulates a computtational expensive process which later will benefit from caching using joblib.Memory"
   ]
  },
  {
   "cell_type": "code",
   "execution_count": 11,
   "metadata": {},
   "outputs": [],
   "source": [
    "import time \n",
    "import numpy as np\n",
    "\n",
    "def costly_compute(data, column_index=0):\n",
    "    \"\"\"Simulate an expensive computation\"\"\"\n",
    "    time.sleep(5)\n",
    "    return data[column_index]\n"
   ]
  },
  {
   "cell_type": "markdown",
   "metadata": {},
   "source": [
    "set random seet to generate deterministic data (data that is true, like a phone number for a customer)"
   ]
  },
  {
   "cell_type": "code",
   "execution_count": 12,
   "metadata": {},
   "outputs": [
    {
     "name": "stdout",
     "output_type": "stream",
     "text": [
      "\n",
      "The function took 5.004489 s to compute.\n",
      "\n",
      "The transformed data are:\n",
      " [ 0.49671415 -0.1382643   0.64768854  1.52302986 -0.23415337 -0.23413696\n",
      "  1.57921282  0.76743473 -0.46947439  0.54256004]\n"
     ]
    }
   ],
   "source": [
    "rng = np.random.RandomState(42)\n",
    "data = rng.randn(int(1e5), 10)\n",
    "start = time.time()\n",
    "data_trans = costly_compute(data)\n",
    "end = time.time()\n",
    "\n",
    "print('\\nThe function took {:2f} s to compute.'.format(end - start))\n",
    "print('\\nThe transformed data are:\\n {}'.format(data_trans)\n",
    "     )"
   ]
  },
  {
   "cell_type": "markdown",
   "metadata": {},
   "source": [
    "## Caching the result of a funciton to avoid recomputing\n",
    "\n",
    "No point in recomputing anything if its all the same. `joblib.Memory` enables to cache results from a function into a specific location.\n",
    "\n"
   ]
  },
  {
   "cell_type": "code",
   "execution_count": 16,
   "metadata": {},
   "outputs": [
    {
     "name": "stdout",
     "output_type": "stream",
     "text": [
      "\n",
      "The function took 5.05 s to compute.\n",
      "\n",
      "The transformed data are:\n",
      " [ 0.49671415 -0.1382643   0.64768854  1.52302986 -0.23415337 -0.23413696\n",
      "  1.57921282  0.76743473 -0.46947439  0.54256004]\n"
     ]
    }
   ],
   "source": [
    "from joblib import Memory\n",
    "location = './cachedir'\n",
    "memory = Memory(location, verbose=0)\n",
    "\n",
    "\n",
    "def costly_compute_cached(data, column_index=0):\n",
    "    \"\"\"Simulate an expensive computation\"\"\"\n",
    "    time.sleep(5)\n",
    "    return data[column_index]\n",
    "\n",
    "costly_compute_cached = memory.cache(costly_compute_cached)\n",
    "start = time.time()\n",
    "data_trans = costly_compute_cached(data)\n",
    "end = time.time()\n",
    "\n",
    "print('\\nThe function took {:.2f} s to compute.'.format(end - start))\n",
    "print('\\nThe transformed data are:\\n {}'.format(data_trans))\n",
    "    "
   ]
  },
  {
   "cell_type": "markdown",
   "metadata": {},
   "source": [
    "First results will be cached, therefore the computation time corresponds to the time to comptue the results plus time to dump results into disk.\n"
   ]
  },
  {
   "cell_type": "code",
   "execution_count": 22,
   "metadata": {},
   "outputs": [
    {
     "name": "stdout",
     "output_type": "stream",
     "text": [
      "\n",
      "The function took 0.01 s to compute.\n",
      "\n",
      "The transformed data are:\n",
      " [ 0.49671415 -0.1382643   0.64768854  1.52302986 -0.23415337 -0.23413696\n",
      "  1.57921282  0.76743473 -0.46947439  0.54256004]\n"
     ]
    }
   ],
   "source": [
    "start = time.time()\n",
    "data_trans = costly_compute_cached(data)\n",
    "end = time.time()\n",
    "                  \n",
    "print('\\nThe function took {:.2f} s to compute.'.format(end - start))\n",
    "print('\\nThe transformed data are:\\n {}'.format(data_trans))                  "
   ]
  },
  {
   "cell_type": "markdown",
   "metadata": {},
   "source": [
    "At the second call, the computation time is reduced because we are using the previously dumped data from disk and not `recomputing`\n",
    "\n",
    "## Using Joblib.Memory with a method\n",
    "\n"
   ]
  },
  {
   "cell_type": "code",
   "execution_count": 27,
   "metadata": {},
   "outputs": [
    {
     "name": "stdout",
     "output_type": "stream",
     "text": [
      "\n",
      "The function took 0.01 s to compute.\n",
      "\n",
      "The transformed data are:\n",
      " [ 0.49671415 -0.1382643   0.64768854  1.52302986 -0.23415337 -0.23413696\n",
      "  1.57921282  0.76743473 -0.46947439  0.54256004]\n"
     ]
    }
   ],
   "source": [
    "def _costly_compute_cached(data, column):\n",
    "    time.sleep(5)\n",
    "    return data[column]\n",
    "\n",
    "class Algorithm(object):\n",
    "    \"\"\"A class which is using the previous function\"\"\"\n",
    "    \n",
    "    def __init__(self, column=0):\n",
    "        self.column = column\n",
    "        \n",
    "    def transform(self, data):\n",
    "        costly_compute = memory.cache(_costly_compute_cached)\n",
    "        return costly_compute(data, self.column)\n",
    "\n",
    "transformer = Algorithm()\n",
    "start = time.time()\n",
    "data_trans = transformer.transform(data)\n",
    "end = time.time()\n",
    "\n",
    "    \n",
    "print('\\nThe function took {:.2f} s to compute.'.format(end - start))\n",
    "print('\\nThe transformed data are:\\n {}'.format(data_trans))    "
   ]
  },
  {
   "cell_type": "code",
   "execution_count": null,
   "metadata": {},
   "outputs": [],
   "source": [
    "start = time.time()\n",
    "data_trans = transformer.transform(data)"
   ]
  },
  {
   "cell_type": "code",
   "execution_count": null,
   "metadata": {},
   "outputs": [],
   "source": []
  },
  {
   "cell_type": "code",
   "execution_count": null,
   "metadata": {},
   "outputs": [],
   "source": []
  },
  {
   "cell_type": "code",
   "execution_count": null,
   "metadata": {},
   "outputs": [],
   "source": []
  },
  {
   "cell_type": "code",
   "execution_count": null,
   "metadata": {},
   "outputs": [],
   "source": []
  },
  {
   "cell_type": "code",
   "execution_count": null,
   "metadata": {},
   "outputs": [],
   "source": []
  },
  {
   "cell_type": "code",
   "execution_count": null,
   "metadata": {},
   "outputs": [],
   "source": []
  },
  {
   "cell_type": "code",
   "execution_count": null,
   "metadata": {},
   "outputs": [],
   "source": []
  },
  {
   "cell_type": "code",
   "execution_count": null,
   "metadata": {},
   "outputs": [],
   "source": []
  },
  {
   "cell_type": "code",
   "execution_count": null,
   "metadata": {},
   "outputs": [],
   "source": []
  },
  {
   "cell_type": "code",
   "execution_count": null,
   "metadata": {},
   "outputs": [],
   "source": []
  },
  {
   "cell_type": "code",
   "execution_count": null,
   "metadata": {},
   "outputs": [],
   "source": []
  }
 ],
 "metadata": {
  "kernelspec": {
   "display_name": "Python 3",
   "language": "python",
   "name": "python3"
  },
  "language_info": {
   "codemirror_mode": {
    "name": "ipython",
    "version": 3
   },
   "file_extension": ".py",
   "mimetype": "text/x-python",
   "name": "python",
   "nbconvert_exporter": "python",
   "pygments_lexer": "ipython3",
   "version": "3.6.8"
  }
 },
 "nbformat": 4,
 "nbformat_minor": 2
}
